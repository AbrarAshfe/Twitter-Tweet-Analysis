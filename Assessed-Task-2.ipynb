{
 "cells": [
  {
   "cell_type": "code",
   "execution_count": 15,
   "metadata": {},
   "outputs": [],
   "source": [
    "import tweepy\n",
    "import pandas as pd\n",
    "import numpy as np\n",
    "import json\n",
    "import re\n",
    "import warnings\n",
    "warnings.filterwarnings('ignore')"
   ]
  },
  {
   "cell_type": "markdown",
   "metadata": {},
   "source": [
    "### Establishing the connection\n",
    "Created and Application in Twitter Developer account as Assessed-task-2 & copied the keyboard."
   ]
  },
  {
   "cell_type": "code",
   "execution_count": 16,
   "metadata": {},
   "outputs": [],
   "source": [
    "# Application creds made in developer account ...\n",
    "\n",
    "consumer_key = 'jIXCU53opEikJKYRWK633SRTd'\n",
    "consumer_key_secret = 'NTx4NDFUfJMuAZwg7DX4kRW7ZMpWUYUe8ZXi7fH8C5jWHhn4UZ'\n",
    "access_token = '1371716702-hRzyepHlBcKVTvhI0W6Npdd7p78GjHEZb4w9v0y'\n",
    "access_token_secret = 'JdvZubB0HLeqRY7qJLZ7oFZH2q9R2BPInDZ30TVEWnM7q'\n",
    "\n",
    "auth = tweepy.OAuthHandler(consumer_key, consumer_key_secret)\n",
    "# Authorisation of API key and API key secret.\n",
    "auth.set_access_token(access_token, access_token_secret)\n",
    "# Set access to user's access token and access token secret.\n",
    "api = tweepy.API(auth)\n",
    "# The API class provides access to the Twitter RESTful API method."
   ]
  },
  {
   "cell_type": "markdown",
   "metadata": {},
   "source": [
    "### Testing the connection"
   ]
  },
  {
   "cell_type": "code",
   "execution_count": 17,
   "metadata": {},
   "outputs": [
    {
     "name": "stdout",
     "output_type": "stream",
     "text": [
      "Authentication OK.\n"
     ]
    }
   ],
   "source": [
    "# Testing the authentication.\n",
    "try:\n",
    "    user = api.verify_credentials()\n",
    "    print('Authentication OK.')\n",
    "except:\n",
    "    print('Error during authentication.')\n"
   ]
  },
  {
   "cell_type": "markdown",
   "metadata": {},
   "source": [
    "## Task 1\n",
    "Collect 400 tweets from two different Twitter users **(Australian politicians)**, 200 from each.  You should try to find two politicians where you would expect there to be some noticeable differences in their tweets.\n",
    "\n",
    "**Selected politician for the Assessments:**<br>\n",
    "Malcolm Turnbull with Screen name: @TurnbullMalcolm    *-Former PM of Australia. (2014-2018)*<br>\n",
    "Kevin Rudd with Screen name: @MrKRudd      -* Former PM of Australia.*"
   ]
  },
  {
   "cell_type": "markdown",
   "metadata": {},
   "source": [
    "#### Collecting first 200 tweets of Malcolm Turnbull with Screen name: @TurnbullMalcolm "
   ]
  },
  {
   "cell_type": "code",
   "execution_count": 18,
   "metadata": {},
   "outputs": [],
   "source": [
    "max_tweets = 200\n",
    "screen_name = '@TurnbullMalcolm'\n",
    "tweets_Malcolm = api.user_timeline(screen_name = screen_name, tweet_mode = 'extended', count = max_tweets)"
   ]
  },
  {
   "cell_type": "code",
   "execution_count": 19,
   "metadata": {},
   "outputs": [],
   "source": [
    "Malcolm = []\n",
    "for tweet in tweets_Malcolm:\n",
    "    Malcolm.append(tweet._json)\n",
    "\n",
    "with open('Data_scrapped/TurnbullMalcolm.json', mode = 'w') as file:\n",
    "    file.write(json.dumps(Malcolm , indent = 4))"
   ]
  },
  {
   "cell_type": "markdown",
   "metadata": {},
   "source": [
    "#### Collecting first 200 tweets of Malcolm Turnbull with Screen name: @TurnbullMalcolm "
   ]
  },
  {
   "cell_type": "code",
   "execution_count": 20,
   "metadata": {},
   "outputs": [],
   "source": [
    "max_tweets = 200\n",
    "screen_name = '@MrKRudd'\n",
    "tweets_Rudd = api.user_timeline(screen_name = screen_name,tweet_mode = 'extended', count = max_tweets)"
   ]
  },
  {
   "cell_type": "code",
   "execution_count": 21,
   "metadata": {},
   "outputs": [],
   "source": [
    "Rudd = []\n",
    "for tweet in tweets_Rudd:\n",
    "    Rudd.append(tweet._json)\n",
    "    \n",
    "with open('Data_scrapped/MrKRudd.json', mode = 'w') as file:\n",
    "    file.write(json.dumps(Rudd , indent = 4))"
   ]
  },
  {
   "cell_type": "markdown",
   "metadata": {},
   "source": [
    "# Task 2\n",
    "Use pandas to plot the posting times of the tweets for the two users in one bar chart; the aim of the plot is to distinguish the two users."
   ]
  },
  {
   "cell_type": "markdown",
   "metadata": {},
   "source": [
    "#### Creating listing for Malcolm"
   ]
  },
  {
   "cell_type": "code",
   "execution_count": 34,
   "metadata": {},
   "outputs": [],
   "source": [
    "#listing the Malcolm Tweets and timings\n",
    "Malcolm = []\n",
    "with open('Data_scrapped/TurnbullMalcolm.json', encoding = 'utf-8', mode = 'r') as file:\n",
    "        Malcolm_list = json.load(file)\n",
    "        for dict in Malcolm_list:\n",
    "             Malcolm.append({'user_id':str(dict['user']['name']),\n",
    "                           'post_time':dict['created_at'],\n",
    "                          'tweet':str(dict['full_text']),  \n",
    "             })"
   ]
  },
  {
   "cell_type": "code",
   "execution_count": 35,
   "metadata": {},
   "outputs": [
    {
     "data": {
      "text/html": [
       "<div>\n",
       "<style scoped>\n",
       "    .dataframe tbody tr th:only-of-type {\n",
       "        vertical-align: middle;\n",
       "    }\n",
       "\n",
       "    .dataframe tbody tr th {\n",
       "        vertical-align: top;\n",
       "    }\n",
       "\n",
       "    .dataframe thead th {\n",
       "        text-align: right;\n",
       "    }\n",
       "</style>\n",
       "<table border=\"1\" class=\"dataframe\">\n",
       "  <thead>\n",
       "    <tr style=\"text-align: right;\">\n",
       "      <th></th>\n",
       "      <th>user_id</th>\n",
       "      <th>post_time</th>\n",
       "      <th>tweet</th>\n",
       "    </tr>\n",
       "  </thead>\n",
       "  <tbody>\n",
       "    <tr>\n",
       "      <th>0</th>\n",
       "      <td>Malcolm Turnbull 💉💉</td>\n",
       "      <td>Tue Oct 12 03:08:32 +0000 2021</td>\n",
       "      <td>RT @alexbhturnbull: Chinese politics and your ...</td>\n",
       "    </tr>\n",
       "    <tr>\n",
       "      <th>1</th>\n",
       "      <td>Malcolm Turnbull 💉💉</td>\n",
       "      <td>Tue Oct 12 00:43:30 +0000 2021</td>\n",
       "      <td>China singling out Australian coal is a sign o...</td>\n",
       "    </tr>\n",
       "    <tr>\n",
       "      <th>2</th>\n",
       "      <td>Malcolm Turnbull 💉💉</td>\n",
       "      <td>Tue Oct 12 00:38:13 +0000 2021</td>\n",
       "      <td>@ChristineMilne @SmartEnergyCncl Absolutely! P...</td>\n",
       "    </tr>\n",
       "    <tr>\n",
       "      <th>3</th>\n",
       "      <td>Malcolm Turnbull 💉💉</td>\n",
       "      <td>Mon Oct 11 08:45:24 +0000 2021</td>\n",
       "      <td>RT @franceinfo: Le nouvel album d'Astérix, \"As...</td>\n",
       "    </tr>\n",
       "    <tr>\n",
       "      <th>4</th>\n",
       "      <td>Malcolm Turnbull 💉💉</td>\n",
       "      <td>Sun Oct 10 22:26:23 +0000 2021</td>\n",
       "      <td>RT @DAlperovitch: Theory: The redacted country...</td>\n",
       "    </tr>\n",
       "    <tr>\n",
       "      <th>5</th>\n",
       "      <td>Malcolm Turnbull 💉💉</td>\n",
       "      <td>Sun Oct 10 21:44:36 +0000 2021</td>\n",
       "      <td>RT @Matt_KeanMP: With NSW’s 50% emissions redu...</td>\n",
       "    </tr>\n",
       "    <tr>\n",
       "      <th>6</th>\n",
       "      <td>Malcolm Turnbull 💉💉</td>\n",
       "      <td>Sun Oct 10 05:46:22 +0000 2021</td>\n",
       "      <td>RT @FortescueFuture: Today we partnered with t...</td>\n",
       "    </tr>\n",
       "    <tr>\n",
       "      <th>7</th>\n",
       "      <td>Malcolm Turnbull 💉💉</td>\n",
       "      <td>Sun Oct 10 05:42:10 +0000 2021</td>\n",
       "      <td>RT @AnnastaciaMP: Gladstone is set to become Q...</td>\n",
       "    </tr>\n",
       "    <tr>\n",
       "      <th>8</th>\n",
       "      <td>Malcolm Turnbull 💉💉</td>\n",
       "      <td>Sun Oct 10 05:41:08 +0000 2021</td>\n",
       "      <td>RT @FortescueFuture: Our goal is to become the...</td>\n",
       "    </tr>\n",
       "    <tr>\n",
       "      <th>9</th>\n",
       "      <td>Malcolm Turnbull 💉💉</td>\n",
       "      <td>Sun Oct 10 05:41:02 +0000 2021</td>\n",
       "      <td>RT @FortescueFuture: Our manufacturing arm, st...</td>\n",
       "    </tr>\n",
       "  </tbody>\n",
       "</table>\n",
       "</div>"
      ],
      "text/plain": [
       "               user_id                       post_time  \\\n",
       "0  Malcolm Turnbull 💉💉  Tue Oct 12 03:08:32 +0000 2021   \n",
       "1  Malcolm Turnbull 💉💉  Tue Oct 12 00:43:30 +0000 2021   \n",
       "2  Malcolm Turnbull 💉💉  Tue Oct 12 00:38:13 +0000 2021   \n",
       "3  Malcolm Turnbull 💉💉  Mon Oct 11 08:45:24 +0000 2021   \n",
       "4  Malcolm Turnbull 💉💉  Sun Oct 10 22:26:23 +0000 2021   \n",
       "5  Malcolm Turnbull 💉💉  Sun Oct 10 21:44:36 +0000 2021   \n",
       "6  Malcolm Turnbull 💉💉  Sun Oct 10 05:46:22 +0000 2021   \n",
       "7  Malcolm Turnbull 💉💉  Sun Oct 10 05:42:10 +0000 2021   \n",
       "8  Malcolm Turnbull 💉💉  Sun Oct 10 05:41:08 +0000 2021   \n",
       "9  Malcolm Turnbull 💉💉  Sun Oct 10 05:41:02 +0000 2021   \n",
       "\n",
       "                                               tweet  \n",
       "0  RT @alexbhturnbull: Chinese politics and your ...  \n",
       "1  China singling out Australian coal is a sign o...  \n",
       "2  @ChristineMilne @SmartEnergyCncl Absolutely! P...  \n",
       "3  RT @franceinfo: Le nouvel album d'Astérix, \"As...  \n",
       "4  RT @DAlperovitch: Theory: The redacted country...  \n",
       "5  RT @Matt_KeanMP: With NSW’s 50% emissions redu...  \n",
       "6  RT @FortescueFuture: Today we partnered with t...  \n",
       "7  RT @AnnastaciaMP: Gladstone is set to become Q...  \n",
       "8  RT @FortescueFuture: Our goal is to become the...  \n",
       "9  RT @FortescueFuture: Our manufacturing arm, st...  "
      ]
     },
     "execution_count": 35,
     "metadata": {},
     "output_type": "execute_result"
    }
   ],
   "source": [
    "Malcolm_df = pd.DataFrame(Malcolm , columns = ['user_id','post_time','tweet', ])\n",
    "Malcolm_df.head(10)"
   ]
  },
  {
   "cell_type": "code",
   "execution_count": 36,
   "metadata": {},
   "outputs": [
    {
     "data": {
      "text/plain": [
       "(200, 3)"
      ]
     },
     "execution_count": 36,
     "metadata": {},
     "output_type": "execute_result"
    }
   ],
   "source": [
    "#checking only 200 rows are fetched here.\n",
    "Malcolm_df.shape"
   ]
  },
  {
   "cell_type": "code",
   "execution_count": 37,
   "metadata": {},
   "outputs": [
    {
     "name": "stdout",
     "output_type": "stream",
     "text": [
      "<class 'pandas.core.frame.DataFrame'>\n",
      "RangeIndex: 200 entries, 0 to 199\n",
      "Data columns (total 3 columns):\n",
      " #   Column     Non-Null Count  Dtype \n",
      "---  ------     --------------  ----- \n",
      " 0   user_id    200 non-null    object\n",
      " 1   post_time  200 non-null    object\n",
      " 2   tweet      200 non-null    object\n",
      "dtypes: object(3)\n",
      "memory usage: 4.8+ KB\n"
     ]
    }
   ],
   "source": [
    "Malcolm_df.info()"
   ]
  },
  {
   "cell_type": "code",
   "execution_count": 38,
   "metadata": {},
   "outputs": [],
   "source": [
    "#Need to change the datatype further for plotting post time,Hour\n",
    "Malcolm_df['post_time'] = pd.to_datetime(Malcolm_df['post_time'])\n",
    "Malcolm_df['hour'] = Malcolm_df['post_time'].dt.hour"
   ]
  },
  {
   "cell_type": "code",
   "execution_count": 39,
   "metadata": {},
   "outputs": [
    {
     "name": "stdout",
     "output_type": "stream",
     "text": [
      "<class 'pandas.core.frame.DataFrame'>\n",
      "RangeIndex: 200 entries, 0 to 199\n",
      "Data columns (total 4 columns):\n",
      " #   Column     Non-Null Count  Dtype              \n",
      "---  ------     --------------  -----              \n",
      " 0   user_id    200 non-null    object             \n",
      " 1   post_time  200 non-null    datetime64[ns, UTC]\n",
      " 2   tweet      200 non-null    object             \n",
      " 3   hour       200 non-null    int64              \n",
      "dtypes: datetime64[ns, UTC](1), int64(1), object(2)\n",
      "memory usage: 6.4+ KB\n"
     ]
    }
   ],
   "source": [
    "Malcolm_df.info()"
   ]
  },
  {
   "cell_type": "markdown",
   "metadata": {},
   "source": [
    "#### Creating lisitng for MrKRudd"
   ]
  },
  {
   "cell_type": "code",
   "execution_count": 40,
   "metadata": {},
   "outputs": [],
   "source": [
    "#listing the Malcolm Tweets and timings\n",
    "Rudd = []\n",
    "with open('Data_scrapped/MrKRudd.json', encoding = 'utf-8', mode = 'r') as file:\n",
    "        Rudd_list = json.load(file)\n",
    "        for dict in Rudd_list:\n",
    "             Rudd.append({'user_id':str(dict['user']['name']),\n",
    "                           'post_time':dict['created_at'],\n",
    "                          'tweet':str(dict['full_text']),  \n",
    "             })"
   ]
  },
  {
   "cell_type": "code",
   "execution_count": 42,
   "metadata": {},
   "outputs": [
    {
     "data": {
      "text/html": [
       "<div>\n",
       "<style scoped>\n",
       "    .dataframe tbody tr th:only-of-type {\n",
       "        vertical-align: middle;\n",
       "    }\n",
       "\n",
       "    .dataframe tbody tr th {\n",
       "        vertical-align: top;\n",
       "    }\n",
       "\n",
       "    .dataframe thead th {\n",
       "        text-align: right;\n",
       "    }\n",
       "</style>\n",
       "<table border=\"1\" class=\"dataframe\">\n",
       "  <thead>\n",
       "    <tr style=\"text-align: right;\">\n",
       "      <th></th>\n",
       "      <th>user_id</th>\n",
       "      <th>post_time</th>\n",
       "      <th>tweet</th>\n",
       "    </tr>\n",
       "  </thead>\n",
       "  <tbody>\n",
       "    <tr>\n",
       "      <th>0</th>\n",
       "      <td>Kevin Rudd</td>\n",
       "      <td>Tue Oct 12 02:59:41 +0000 2021</td>\n",
       "      <td>You know Morrison has really gone beyond the p...</td>\n",
       "    </tr>\n",
       "    <tr>\n",
       "      <th>1</th>\n",
       "      <td>Kevin Rudd</td>\n",
       "      <td>Tue Oct 12 01:23:00 +0000 2021</td>\n",
       "      <td>Murdoch is today predicting an investment bona...</td>\n",
       "    </tr>\n",
       "    <tr>\n",
       "      <th>2</th>\n",
       "      <td>Kevin Rudd</td>\n",
       "      <td>Mon Oct 11 22:51:00 +0000 2021</td>\n",
       "      <td>Murdoch now says that decarbonising the econom...</td>\n",
       "    </tr>\n",
       "    <tr>\n",
       "      <th>3</th>\n",
       "      <td>Kevin Rudd</td>\n",
       "      <td>Mon Oct 11 20:03:00 +0000 2021</td>\n",
       "      <td>Murdoch spent years working hand-in-glove with...</td>\n",
       "    </tr>\n",
       "    <tr>\n",
       "      <th>4</th>\n",
       "      <td>Kevin Rudd</td>\n",
       "      <td>Mon Oct 11 10:54:06 +0000 2021</td>\n",
       "      <td>Murdoch now says deploying green technology, l...</td>\n",
       "    </tr>\n",
       "    <tr>\n",
       "      <th>5</th>\n",
       "      <td>Kevin Rudd</td>\n",
       "      <td>Mon Oct 11 06:50:00 +0000 2021</td>\n",
       "      <td>Murdoch should crawl back into his crypt… How ...</td>\n",
       "    </tr>\n",
       "    <tr>\n",
       "      <th>6</th>\n",
       "      <td>Kevin Rudd</td>\n",
       "      <td>Mon Oct 11 05:09:17 +0000 2021</td>\n",
       "      <td>Murdoch is now drowning in greenwash, giving p...</td>\n",
       "    </tr>\n",
       "    <tr>\n",
       "      <th>7</th>\n",
       "      <td>Kevin Rudd</td>\n",
       "      <td>Mon Oct 11 00:37:59 +0000 2021</td>\n",
       "      <td>What a total bucket of greenwash from Murdoch,...</td>\n",
       "    </tr>\n",
       "    <tr>\n",
       "      <th>8</th>\n",
       "      <td>Kevin Rudd</td>\n",
       "      <td>Sun Oct 10 02:45:33 +0000 2021</td>\n",
       "      <td>Here’s a thread with some facts and figures ab...</td>\n",
       "    </tr>\n",
       "    <tr>\n",
       "      <th>9</th>\n",
       "      <td>Kevin Rudd</td>\n",
       "      <td>Sun Oct 10 02:45:32 +0000 2021</td>\n",
       "      <td>Breathtaking arrogance from the outgoing ABC n...</td>\n",
       "    </tr>\n",
       "  </tbody>\n",
       "</table>\n",
       "</div>"
      ],
      "text/plain": [
       "      user_id                       post_time  \\\n",
       "0  Kevin Rudd  Tue Oct 12 02:59:41 +0000 2021   \n",
       "1  Kevin Rudd  Tue Oct 12 01:23:00 +0000 2021   \n",
       "2  Kevin Rudd  Mon Oct 11 22:51:00 +0000 2021   \n",
       "3  Kevin Rudd  Mon Oct 11 20:03:00 +0000 2021   \n",
       "4  Kevin Rudd  Mon Oct 11 10:54:06 +0000 2021   \n",
       "5  Kevin Rudd  Mon Oct 11 06:50:00 +0000 2021   \n",
       "6  Kevin Rudd  Mon Oct 11 05:09:17 +0000 2021   \n",
       "7  Kevin Rudd  Mon Oct 11 00:37:59 +0000 2021   \n",
       "8  Kevin Rudd  Sun Oct 10 02:45:33 +0000 2021   \n",
       "9  Kevin Rudd  Sun Oct 10 02:45:32 +0000 2021   \n",
       "\n",
       "                                               tweet  \n",
       "0  You know Morrison has really gone beyond the p...  \n",
       "1  Murdoch is today predicting an investment bona...  \n",
       "2  Murdoch now says that decarbonising the econom...  \n",
       "3  Murdoch spent years working hand-in-glove with...  \n",
       "4  Murdoch now says deploying green technology, l...  \n",
       "5  Murdoch should crawl back into his crypt… How ...  \n",
       "6  Murdoch is now drowning in greenwash, giving p...  \n",
       "7  What a total bucket of greenwash from Murdoch,...  \n",
       "8  Here’s a thread with some facts and figures ab...  \n",
       "9  Breathtaking arrogance from the outgoing ABC n...  "
      ]
     },
     "execution_count": 42,
     "metadata": {},
     "output_type": "execute_result"
    }
   ],
   "source": [
    "Rudd_df = pd.DataFrame(Rudd , columns = ['user_id','post_time','tweet', ])\n",
    "Rudd_df.head(10)"
   ]
  },
  {
   "cell_type": "code",
   "execution_count": 43,
   "metadata": {},
   "outputs": [
    {
     "data": {
      "text/plain": [
       "(200, 3)"
      ]
     },
     "execution_count": 43,
     "metadata": {},
     "output_type": "execute_result"
    }
   ],
   "source": [
    "#checking only 200 rows are fetched here.\n",
    "Rudd_df.shape"
   ]
  },
  {
   "cell_type": "code",
   "execution_count": 44,
   "metadata": {},
   "outputs": [
    {
     "name": "stdout",
     "output_type": "stream",
     "text": [
      "<class 'pandas.core.frame.DataFrame'>\n",
      "RangeIndex: 200 entries, 0 to 199\n",
      "Data columns (total 3 columns):\n",
      " #   Column     Non-Null Count  Dtype \n",
      "---  ------     --------------  ----- \n",
      " 0   user_id    200 non-null    object\n",
      " 1   post_time  200 non-null    object\n",
      " 2   tweet      200 non-null    object\n",
      "dtypes: object(3)\n",
      "memory usage: 4.8+ KB\n"
     ]
    }
   ],
   "source": [
    "Rudd_df.info()"
   ]
  },
  {
   "cell_type": "code",
   "execution_count": 45,
   "metadata": {},
   "outputs": [],
   "source": [
    "#Need to change the datatype further for plotting post time,Hour\n",
    "Rudd_df['post_time'] = pd.to_datetime(Rudd_df['post_time'])\n",
    "Rudd_df['hour'] = Rudd_df['post_time'].dt.hour"
   ]
  },
  {
   "cell_type": "code",
   "execution_count": 46,
   "metadata": {},
   "outputs": [
    {
     "name": "stdout",
     "output_type": "stream",
     "text": [
      "<class 'pandas.core.frame.DataFrame'>\n",
      "RangeIndex: 200 entries, 0 to 199\n",
      "Data columns (total 4 columns):\n",
      " #   Column     Non-Null Count  Dtype              \n",
      "---  ------     --------------  -----              \n",
      " 0   user_id    200 non-null    object             \n",
      " 1   post_time  200 non-null    datetime64[ns, UTC]\n",
      " 2   tweet      200 non-null    object             \n",
      " 3   hour       200 non-null    int64              \n",
      "dtypes: datetime64[ns, UTC](1), int64(1), object(2)\n",
      "memory usage: 6.4+ KB\n"
     ]
    }
   ],
   "source": [
    "Rudd_df.info()"
   ]
  },
  {
   "cell_type": "markdown",
   "metadata": {},
   "source": [
    "### Listing Both Twitter Account to one table"
   ]
  },
  {
   "cell_type": "code",
   "execution_count": 47,
   "metadata": {},
   "outputs": [
    {
     "data": {
      "text/html": [
       "<div>\n",
       "<style scoped>\n",
       "    .dataframe tbody tr th:only-of-type {\n",
       "        vertical-align: middle;\n",
       "    }\n",
       "\n",
       "    .dataframe tbody tr th {\n",
       "        vertical-align: top;\n",
       "    }\n",
       "\n",
       "    .dataframe thead th {\n",
       "        text-align: right;\n",
       "    }\n",
       "</style>\n",
       "<table border=\"1\" class=\"dataframe\">\n",
       "  <thead>\n",
       "    <tr style=\"text-align: right;\">\n",
       "      <th></th>\n",
       "      <th>index</th>\n",
       "      <th>user_id</th>\n",
       "      <th>post_time</th>\n",
       "      <th>tweet</th>\n",
       "      <th>hour</th>\n",
       "    </tr>\n",
       "  </thead>\n",
       "  <tbody>\n",
       "    <tr>\n",
       "      <th>0</th>\n",
       "      <td>0</td>\n",
       "      <td>Malcolm Turnbull 💉💉</td>\n",
       "      <td>2021-10-12 03:08:32+00:00</td>\n",
       "      <td>RT @alexbhturnbull: Chinese politics and your ...</td>\n",
       "      <td>3</td>\n",
       "    </tr>\n",
       "    <tr>\n",
       "      <th>1</th>\n",
       "      <td>1</td>\n",
       "      <td>Malcolm Turnbull 💉💉</td>\n",
       "      <td>2021-10-12 00:43:30+00:00</td>\n",
       "      <td>China singling out Australian coal is a sign o...</td>\n",
       "      <td>0</td>\n",
       "    </tr>\n",
       "    <tr>\n",
       "      <th>2</th>\n",
       "      <td>2</td>\n",
       "      <td>Malcolm Turnbull 💉💉</td>\n",
       "      <td>2021-10-12 00:38:13+00:00</td>\n",
       "      <td>@ChristineMilne @SmartEnergyCncl Absolutely! P...</td>\n",
       "      <td>0</td>\n",
       "    </tr>\n",
       "    <tr>\n",
       "      <th>3</th>\n",
       "      <td>3</td>\n",
       "      <td>Malcolm Turnbull 💉💉</td>\n",
       "      <td>2021-10-11 08:45:24+00:00</td>\n",
       "      <td>RT @franceinfo: Le nouvel album d'Astérix, \"As...</td>\n",
       "      <td>8</td>\n",
       "    </tr>\n",
       "    <tr>\n",
       "      <th>4</th>\n",
       "      <td>4</td>\n",
       "      <td>Malcolm Turnbull 💉💉</td>\n",
       "      <td>2021-10-10 22:26:23+00:00</td>\n",
       "      <td>RT @DAlperovitch: Theory: The redacted country...</td>\n",
       "      <td>22</td>\n",
       "    </tr>\n",
       "    <tr>\n",
       "      <th>...</th>\n",
       "      <td>...</td>\n",
       "      <td>...</td>\n",
       "      <td>...</td>\n",
       "      <td>...</td>\n",
       "      <td>...</td>\n",
       "    </tr>\n",
       "    <tr>\n",
       "      <th>395</th>\n",
       "      <td>195</td>\n",
       "      <td>Kevin Rudd</td>\n",
       "      <td>2021-08-14 06:08:54+00:00</td>\n",
       "      <td>Any other state govt, had they been confronted...</td>\n",
       "      <td>6</td>\n",
       "    </tr>\n",
       "    <tr>\n",
       "      <th>396</th>\n",
       "      <td>196</td>\n",
       "      <td>Kevin Rudd</td>\n",
       "      <td>2021-08-14 03:37:14+00:00</td>\n",
       "      <td>For people with vision impairment or low visio...</td>\n",
       "      <td>3</td>\n",
       "    </tr>\n",
       "    <tr>\n",
       "      <th>397</th>\n",
       "      <td>197</td>\n",
       "      <td>Kevin Rudd</td>\n",
       "      <td>2021-08-14 03:29:34+00:00</td>\n",
       "      <td>The fall of Oruzgan to the Taliban, and the re...</td>\n",
       "      <td>3</td>\n",
       "    </tr>\n",
       "    <tr>\n",
       "      <th>398</th>\n",
       "      <td>198</td>\n",
       "      <td>Kevin Rudd</td>\n",
       "      <td>2021-08-14 01:56:40+00:00</td>\n",
       "      <td>My piece in @satpaper on Murdoch’s four-stage ...</td>\n",
       "      <td>1</td>\n",
       "    </tr>\n",
       "    <tr>\n",
       "      <th>399</th>\n",
       "      <td>199</td>\n",
       "      <td>Kevin Rudd</td>\n",
       "      <td>2021-08-13 11:24:59+00:00</td>\n",
       "      <td>An update for folks who aren't on the https://...</td>\n",
       "      <td>11</td>\n",
       "    </tr>\n",
       "  </tbody>\n",
       "</table>\n",
       "<p>400 rows × 5 columns</p>\n",
       "</div>"
      ],
      "text/plain": [
       "     index              user_id                 post_time  \\\n",
       "0        0  Malcolm Turnbull 💉💉 2021-10-12 03:08:32+00:00   \n",
       "1        1  Malcolm Turnbull 💉💉 2021-10-12 00:43:30+00:00   \n",
       "2        2  Malcolm Turnbull 💉💉 2021-10-12 00:38:13+00:00   \n",
       "3        3  Malcolm Turnbull 💉💉 2021-10-11 08:45:24+00:00   \n",
       "4        4  Malcolm Turnbull 💉💉 2021-10-10 22:26:23+00:00   \n",
       "..     ...                  ...                       ...   \n",
       "395    195           Kevin Rudd 2021-08-14 06:08:54+00:00   \n",
       "396    196           Kevin Rudd 2021-08-14 03:37:14+00:00   \n",
       "397    197           Kevin Rudd 2021-08-14 03:29:34+00:00   \n",
       "398    198           Kevin Rudd 2021-08-14 01:56:40+00:00   \n",
       "399    199           Kevin Rudd 2021-08-13 11:24:59+00:00   \n",
       "\n",
       "                                                 tweet  hour  \n",
       "0    RT @alexbhturnbull: Chinese politics and your ...     3  \n",
       "1    China singling out Australian coal is a sign o...     0  \n",
       "2    @ChristineMilne @SmartEnergyCncl Absolutely! P...     0  \n",
       "3    RT @franceinfo: Le nouvel album d'Astérix, \"As...     8  \n",
       "4    RT @DAlperovitch: Theory: The redacted country...    22  \n",
       "..                                                 ...   ...  \n",
       "395  Any other state govt, had they been confronted...     6  \n",
       "396  For people with vision impairment or low visio...     3  \n",
       "397  The fall of Oruzgan to the Taliban, and the re...     3  \n",
       "398  My piece in @satpaper on Murdoch’s four-stage ...     1  \n",
       "399  An update for folks who aren't on the https://...    11  \n",
       "\n",
       "[400 rows x 5 columns]"
      ]
     },
     "execution_count": 47,
     "metadata": {},
     "output_type": "execute_result"
    }
   ],
   "source": [
    "df = pd.concat([Malcolm_df,Rudd_df], axis=0).reset_index()\n",
    "df"
   ]
  },
  {
   "cell_type": "markdown",
   "metadata": {},
   "source": [
    "### Plotting the Graph"
   ]
  },
  {
   "cell_type": "code",
   "execution_count": 49,
   "metadata": {},
   "outputs": [
    {
     "data": {
      "text/plain": [
       "Text(0.5, 0, 'Time')"
      ]
     },
     "execution_count": 49,
     "metadata": {},
     "output_type": "execute_result"
    },
    {
     "data": {
      "image/png": "[encoded data removed]",
      "text/plain": [
       "<Figure size 720x360 with 1 Axes>"
      ]
     },
     "metadata": {
      "needs_background": "light"
     },
     "output_type": "display_data"
    }
   ],
   "source": [
    "ax1 = Malcolm_df['hour'].value_counts().sort_index().plot.bar(figsize = (10, 5), color = 'red')\n",
    "ax2 = Rudd_df['hour'].value_counts().sort_index().plot.bar(figsize = (10, 5))\n",
    "ax1.set_title('The posting times of the tweets for two users')\n",
    "ax1.set_ylabel('Frequency')\n",
    "ax1.set_xlabel('Time')"
   ]
  },
  {
   "cell_type": "code",
   "execution_count": null,
   "metadata": {},
   "outputs": [],
   "source": []
  }
 ],
 "metadata": {
  "kernelspec": {
   "display_name": "Python 3",
   "language": "python",
   "name": "python3"
  },
  "language_info": {
   "codemirror_mode": {
    "name": "ipython",
    "version": 3
   },
   "file_extension": ".py",
   "mimetype": "text/x-python",
   "name": "python",
   "nbconvert_exporter": "python",
   "pygments_lexer": "ipython3",
   "version": "3.8.5"
  }
 },
 "nbformat": 4,
 "nbformat_minor": 4
}
